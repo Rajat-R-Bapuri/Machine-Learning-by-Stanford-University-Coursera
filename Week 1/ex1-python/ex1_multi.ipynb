{
 "cells": [
  {
   "cell_type": "code",
   "execution_count": 1,
   "metadata": {
    "collapsed": true
   },
   "outputs": [],
   "source": [
    "# import all necessary libraries\n",
    "\n",
    "import numpy as np\n",
    "import matplotlib.pyplot as plt\n",
    "from utils.featureNormalize import featureNormalize\n",
    "from utils.computeCostMulti import computeCostMulti\n",
    "from utils.gradientDescentMulti import gradientDescentMulti\n",
    "from utils.normalEqn import normalEqn\n",
    "import itertools\n",
    "from mpl_toolkits.mplot3d import Axes3D\n",
    "from matplotlib import cm"
   ]
  },
  {
   "cell_type": "markdown",
   "metadata": {},
   "source": [
    "# Part 1: Feature Normalization"
   ]
  },
  {
   "cell_type": "code",
   "execution_count": 2,
   "metadata": {},
   "outputs": [
    {
     "name": "stdout",
     "output_type": "stream",
     "text": [
      "Loading data ...\n",
      "\n",
      "First 10 examples from the dataset: \n",
      "\n",
      " x =\n",
      " \tX_0\t\tX_1\t\tX_2\n",
      " [[  1.00000000e+00   2.10400000e+03   3.00000000e+00]\n",
      " [  1.00000000e+00   1.60000000e+03   3.00000000e+00]\n",
      " [  1.00000000e+00   2.40000000e+03   3.00000000e+00]\n",
      " [  1.00000000e+00   1.41600000e+03   2.00000000e+00]\n",
      " [  1.00000000e+00   3.00000000e+03   4.00000000e+00]\n",
      " [  1.00000000e+00   1.98500000e+03   4.00000000e+00]\n",
      " [  1.00000000e+00   1.53400000e+03   3.00000000e+00]\n",
      " [  1.00000000e+00   1.42700000e+03   3.00000000e+00]\n",
      " [  1.00000000e+00   1.38000000e+03   3.00000000e+00]\n",
      " [  1.00000000e+00   1.49400000e+03   3.00000000e+00]] \n",
      "\n",
      "y =\n",
      " [[ 399900.]\n",
      " [ 329900.]\n",
      " [ 369000.]\n",
      " [ 232000.]\n",
      " [ 539900.]\n",
      " [ 299900.]\n",
      " [ 314900.]\n",
      " [ 198999.]\n",
      " [ 212000.]\n",
      " [ 242500.]] \n",
      "\n"
     ]
    }
   ],
   "source": [
    "print('Loading data ...\\n')\n",
    "data = np.loadtxt('ex1data2.txt', delimiter=',')\n",
    "X = data[:, :2]\n",
    "y = np.reshape(data[:, 2], (X.shape[0], 1))\n",
    "m = X.shape[0]\n",
    "X = np.column_stack((np.ones(len(X)), X))\n",
    "\n",
    "# Print out some data points\n",
    "print('First 10 examples from the dataset: \\n')\n",
    "print(' x =\\n','\\tX_0\\t\\tX_1\\t\\tX_2\\n', X[:10, :], '\\n\\ny =\\n',  y[:10], '\\n')"
   ]
  },
  {
   "cell_type": "code",
   "execution_count": 3,
   "metadata": {},
   "outputs": [
    {
     "name": "stdout",
     "output_type": "stream",
     "text": [
      "Normalizing Features ...\n",
      "\n"
     ]
    }
   ],
   "source": [
    "# Scale features and set them to zero mean\n",
    "print('Normalizing Features ...\\n')\n",
    "normalizedX, mu, sigma = featureNormalize(X)"
   ]
  },
  {
   "cell_type": "markdown",
   "metadata": {},
   "source": [
    "# Part 2: Gradient Descent"
   ]
  },
  {
   "cell_type": "code",
   "execution_count": 4,
   "metadata": {},
   "outputs": [
    {
     "name": "stdout",
     "output_type": "stream",
     "text": [
      "Running gradient descent ...\n",
      "\n"
     ]
    },
    {
     "data": {
      "image/png": "[encoded data removed]",
      "text/plain": [
       "<matplotlib.figure.Figure at 0x16414245e80>"
      ]
     },
     "metadata": {},
     "output_type": "display_data"
    }
   ],
   "source": [
    "print('Running gradient descent ...\\n')\n",
    "\n",
    "alpha = 0.03       # this learning rate seems to work well \n",
    "num_iters = 1500   # default number of iterations given does not converge well\n",
    "\n",
    "# Init Theta and Run Gradient Descent\n",
    "theta = np.zeros((normalizedX.shape[1], 1))\n",
    "theta, J_history = gradientDescentMulti(normalizedX, y, theta, alpha, num_iters)\n",
    "\n",
    "# Plot the convergence graph\n",
    "plt.figure(figsize=(10, 6))\n",
    "plt.plot(range(len(J_history)), J_history, 'bo')\n",
    "plt.grid(True)\n",
    "plt.title(\"Convergence graph\")\n",
    "plt.xlabel(\"Number of iterations\")\n",
    "plt.ylabel(\"Cost J\")\n",
    "plt.show()"
   ]
  },
  {
   "cell_type": "code",
   "execution_count": 5,
   "metadata": {},
   "outputs": [
    {
     "name": "stdout",
     "output_type": "stream",
     "text": [
      "Theta computed from gradient descent: \n",
      "\n",
      "theta0= [ 340412.65957447] \n",
      "theta1= [ 109447.79634183] \n",
      "theta2= [-6578.35472634] \n",
      "\n",
      "Predicted price of a 1650 sq-ft, 3 br house (using gradient descent): 293081.464363 \n",
      "\n"
     ]
    }
   ],
   "source": [
    "# Display gradient descent's result\n",
    "print('Theta computed from gradient descent: \\n')\n",
    "print('theta0=', theta[0], '\\ntheta1=', theta[1], '\\ntheta2=', theta[2], '\\n')\n",
    "\n",
    "# Estimate the price of a 1650 sq-ft, 3 br house\n",
    "testx = np.array([1., 1650., 3.])\n",
    "testx[1] = (testx[1] - mu[1])/sigma[1] # normalize the test values to get the correct results as features were normalizd\n",
    "testx[2] = (testx[2] - mu[2])/sigma[2]\n",
    "predict_g = np.dot(testx,theta)\n",
    "print('Predicted price of a 1650 sq-ft, 3 br house (using gradient descent):', predict_g[0], '\\n')\n"
   ]
  },
  {
   "cell_type": "markdown",
   "metadata": {},
   "source": [
    "# Part 3: Normal Equations"
   ]
  },
  {
   "cell_type": "code",
   "execution_count": 6,
   "metadata": {},
   "outputs": [
    {
     "name": "stdout",
     "output_type": "stream",
     "text": [
      "Solving with normal equations...\n",
      "\n",
      "Theta computed from the normal equations: \n",
      "\n",
      "theta0= [ 89597.9095428] \n",
      "theta1= [ 139.21067402] \n",
      "theta2= [-8738.01911233] \n",
      "\n",
      "Predicted price of a 1650 sq-ft, 3 br house (using normal equations): 293081.464335\n"
     ]
    }
   ],
   "source": [
    "print('Solving with normal equations...\\n')\n",
    "theta = normalEqn(X, y)\n",
    "\n",
    "# Display normal equation's result\n",
    "print('Theta computed from the normal equations: \\n')\n",
    "print('theta0=', theta[0], '\\ntheta1=', theta[1], '\\ntheta2=', theta[2], '\\n')\n",
    "\n",
    "# Estimate the price of a 1650 sq-ft, 3 br house\n",
    "predict_n = np.array([1., 1650., 3.]).dot(theta)\n",
    "print('Predicted price of a 1650 sq-ft, 3 br house (using normal equations):', predict_n[0])"
   ]
  }
 ],
 "metadata": {
  "kernelspec": {
   "display_name": "Python 3",
   "language": "python",
   "name": "python3"
  },
  "language_info": {
   "codemirror_mode": {
    "name": "ipython",
    "version": 3
   },
   "file_extension": ".py",
   "mimetype": "text/x-python",
   "name": "python",
   "nbconvert_exporter": "python",
   "pygments_lexer": "ipython3",
   "version": "3.6.2"
  }
 },
 "nbformat": 4,
 "nbformat_minor": 2
}
